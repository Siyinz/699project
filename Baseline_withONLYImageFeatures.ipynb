{
 "cells": [
  {
   "cell_type": "code",
   "execution_count": 2,
   "metadata": {},
   "outputs": [],
   "source": [
    "import warnings\n",
    "warnings.filterwarnings('ignore')\n"
   ]
  },
  {
   "cell_type": "code",
   "execution_count": 3,
   "metadata": {},
   "outputs": [],
   "source": [
    "import pandas as pd\n",
    "from matplotlib import *\n",
    "import sys\n",
    "from pylab import *\n",
    "import pandas as pd\n",
    "import numpy as np \n",
    "import matplotlib as plt\n",
    "import seaborn as sns"
   ]
  },
  {
   "cell_type": "markdown",
   "metadata": {},
   "source": [
    "# Load"
   ]
  },
  {
   "cell_type": "code",
   "execution_count": 11,
   "metadata": {
    "scrolled": true
   },
   "outputs": [
    {
     "name": "stdout",
     "output_type": "stream",
     "text": [
      "/gpfs/accounts/si699s004w21_class_root/si699s004w21_class/shared_data/Team_10/corelogic\n"
     ]
    }
   ],
   "source": [
    "cd /scratch/si699s004w21_class_root/si699s004w21_class/shared_data/Team_10/corelogic/"
   ]
  },
  {
   "cell_type": "code",
   "execution_count": 13,
   "metadata": {},
   "outputs": [],
   "source": [
    "filepath = \"/scratch/si699s004w21_class_root/si699s004w21_class/shared_data/Team_10/corelogic/complete_data.csv\"\n",
    "filepath2 = \"/scratch/si699s004w21_class_root/si699s004w21_class/shared_data/Team_10/corelogic/downsampled_data.csv\"\n",
    "#data = pd.read_csv(filepath)\n",
    "data = pd.read_csv(filepath)\n",
    "DOWNdata = pd.read_csv(filepath2)"
   ]
  },
  {
   "cell_type": "markdown",
   "metadata": {},
   "source": [
    "# Formatting & Data Types"
   ]
  },
  {
   "cell_type": "markdown",
   "metadata": {},
   "source": [
    "### Y labels "
   ]
  },
  {
   "cell_type": "code",
   "execution_count": 102,
   "metadata": {},
   "outputs": [
    {
     "data": {
      "text/plain": [
       "N    116392\n",
       "U    116392\n",
       "Name: DeedCategory, dtype: int64"
      ]
     },
     "execution_count": 102,
     "metadata": {},
     "output_type": "execute_result"
    }
   ],
   "source": [
    "data['DeedCategory'] = data['DeedCategory'].replace(np.nan, 'N')\n",
    "data['DeedCategory'].value_counts()\n",
    "\n",
    "DOWNdata['DeedCategory'] = DOWNdata['DeedCategory'].replace(np.nan, 'N')\n",
    "DOWNdata['DeedCategory'].value_counts()"
   ]
  },
  {
   "cell_type": "code",
   "execution_count": 101,
   "metadata": {
    "scrolled": true
   },
   "outputs": [],
   "source": [
    "data['DocumentType'] = data['DOCUMENT TYPE_y'].replace(np.nan, 'NA')\n",
    "#data['DocumentType'].value_counts()\n",
    "\n",
    "DOWNdata['DocumentType'] = DOWNdata['DOCUMENT TYPE_y'].replace(np.nan, 'NA')\n",
    "#DOWNdata['DocumentType'].value_counts()\n"
   ]
  },
  {
   "cell_type": "markdown",
   "metadata": {},
   "source": [
    "## drop highly missing values"
   ]
  },
  {
   "cell_type": "code",
   "execution_count": 37,
   "metadata": {},
   "outputs": [],
   "source": [
    "data2 = data.drop(columns = ['Unnamed: 0', 'Unnamed: 0_x', 'Unnamed: 1',\n",
    "       'APN (Parcel Number) (unformatted)', 'CORPORATE INDICATOR',\n",
    "       'OWNER ETAL INDICATOR', 'latitude', 'longitude', 'SALE CODE_x',\n",
    "       'SALE AMOUNT', 'SALE DATE (YYYYMMDD)', 'RECORDING DATE (YYYYMMDD)', 'DOCUMENT TYPE_x',\n",
    "       'TRANSACTION TYPE_x', 'DOCUMENT NUMBER', 'MORTGAGE AMOUNT',\n",
    "       'MORTGAGE DATE_x', 'MORTGAGE INTEREST RATE',\n",
    "       'MORTGAGE LOAN TYPE CODE_x', 'MORTGAGE DEED TYPE_x', 'MORTGAGE TERM CODE_x', 'MORTGAGE TERM_x', 'MORTGAGE DUE DATE_x',\n",
    "       'PRI-CAT-CODE', 'MTG SEC CAT CODES 1X10', 'DEED SEC CAT CODES 2X10',\n",
    "       'LAND USE_x', 'PROPERTY INDICATOR_x', 'INTER FAMILY',\n",
    "       'PRIVATE PARTY LENDER','MORTGAGE INTEREST RATE TYPE', 'CONSTRUCTION LOAN',\n",
    "       'RESALE/NEW CONSTRUCTION', 'FORECLOSURE', 'CASH/MORTGAGE PURCHASE',\n",
    "       'RESIDENTIAL MODEL INDICATOR_x', 'BatchDateSeq',\n",
    "       'DocumentType', 'COUNTY USE1', 'ZONING', 'ABSENTEE OWNER STATUS', 'TOTAL VALUE CALCULATED',\n",
    "       'LAND VALUE CALCULATED', 'IMPROVEMENT VALUE CALCULATED',\n",
    "       'TOTAL VALUE CALCULATED IND', 'LAND VALUE CALCULATED IND',\n",
    "       'IMPROVEMENT VALUE CALCULATED IND', 'ASSD TOTAL VALUE',\n",
    "       'ASSD LAND VALUE', 'ASSD IMPROVEMENT VALUE', 'MKT TOTAL VALUE', 'MKT LAND VALUE',\n",
    "       'MKT IMPROVEMENT VALUE', 'TAX AMOUNT', 'TAX YEAR', 'ASSESSED YEAR',\n",
    "       'TAX CODE AREA', 'DOCUMENT TYPE_y', 'RECORDING DATE','SALE PRICE', 'RESIDENTIAL MODEL INDICATOR_y', '1st MORTGAGE AMOUNT',\n",
    "       'FRONT FOOTAGE', 'DEPTH FOOTAGE', 'ACRES', 'LAND SQUARE FOOTAGE',\n",
    "       'UNIVERSAL BUILDING SQUARE FEET', 'BUILDING SQUARE FEET IND',\n",
    "       'BUILDING SQUARE FEET', 'LIVING SQUARE FEET', 'GARAGE/PARKING SQUARE FEET', 'YEAR BUILT',\n",
    "       'EFFECTIVE YEAR BUILT', 'BEDROOMS', 'TOTAL BATHS CALCULATED',\n",
    "       'FULL BATHS', 'HALF BATHS', 'AIR CONDITIONING', 'BASEMENT DESCRIPTION', 'BLDG CODE', 'BLDG IMPV CODE', 'CONDITION', 'CONSTRUCTION TYPE',\n",
    "       'EXTERIOR WALLS', 'FIREPLACE IND', 'FIREPLACE NUMBER', 'FIREPLACE TYPE',\n",
    "       'FOUNDATION', 'FLOOR', 'FRAME', 'GARAGE', 'HEATING', 'PARKING SPACES', 'PARKING TYPE', 'POOL',\n",
    "       'POOL CODE', 'ROOF COVER', 'ROOF TYPE', 'STORIES CODE', 'STORIES NUMBER', 'NUMBER OF UNITS', 'UNITS NUMBER', 'ELECTRIC/ENERGY',\n",
    "       'FUEL', 'SEWER', 'WATER\\n', 'WATER', 'Unnamed: 0_y'])"
   ]
  },
  {
   "cell_type": "code",
   "execution_count": 53,
   "metadata": {},
   "outputs": [],
   "source": [
    "DOWNdata2 = DOWNdata.drop(columns = ['Unnamed: 0', 'Unnamed: 0.1', 'Unnamed: 0_x', 'Unnamed: 1',\n",
    "       'APN (Parcel Number) (unformatted)', 'OWNER ETAL INDICATOR', 'latitude',\n",
    "       'SALE DATE (YYYYMMDD)', 'DOCUMENT TYPE_x', 'TRANSACTION TYPE_x', 'longitude', 'PRI-CAT-CODE', 'DEED SEC CAT CODES 2X10',\n",
    "       'PROPERTY INDICATOR_x', 'INTER FAMILY', 'RESALE/NEW CONSTRUCTION',\n",
    "       'RESIDENTIAL MODEL INDICATOR_x', 'BatchDateSeq',\n",
    "       'COUNTY USE1', 'ZONING', 'ABSENTEE OWNER STATUS', 'TOTAL VALUE CALCULATED',\n",
    "       'LAND VALUE CALCULATED', 'IMPROVEMENT VALUE CALCULATED',\n",
    "       'TOTAL VALUE CALCULATED IND', 'LAND VALUE CALCULATED IND',\n",
    "       'IMPROVEMENT VALUE CALCULATED IND', 'ASSD TOTAL VALUE',\n",
    "       'ASSD LAND VALUE', 'ASSD IMPROVEMENT VALUE', 'MKT TOTAL VALUE', 'MKT LAND VALUE',\n",
    "       'MKT IMPROVEMENT VALUE', 'TAX AMOUNT', 'TAX YEAR', 'ASSESSED YEAR',\n",
    "       'TAX CODE AREA', 'DOCUMENT TYPE_y', 'RECORDING DATE', 'RESIDENTIAL MODEL INDICATOR_y', 'FRONT FOOTAGE', 'ACRES',\n",
    "       'LAND SQUARE FOOTAGE', 'UNIVERSAL BUILDING SQUARE FEET',\n",
    "       'BUILDING SQUARE FEET IND', 'BUILDING SQUARE FEET',\n",
    "       'LIVING SQUARE FEET', 'YEAR BUILT', 'EFFECTIVE YEAR BUILT', 'BEDROOMS', 'TOTAL BATHS CALCULATED', 'FULL BATHS', 'AIR CONDITIONING',\n",
    "       'BASEMENT DESCRIPTION', 'BLDG CODE', 'CONDITION', 'EXTERIOR WALLS',\n",
    "       'FOUNDATION', 'FRAME','HEATING', 'ROOF COVER', 'ROOF TYPE', 'STORIES CODE', 'STORIES NUMBER',\n",
    "       'NUMBER OF UNITS', 'ELECTRIC/ENERGY', 'FUEL', 'SEWER', 'WATER\\n','WATER', 'Unnamed: 0_y',])"
   ]
  },
  {
   "cell_type": "code",
   "execution_count": 54,
   "metadata": {},
   "outputs": [],
   "source": [
    "d4 = data2.drop(columns = [\"20170101\", \"20170201\", \"20170301\", \"20170401\", \"20170501\", \"20170601\",\n",
    "                          \"20170701\", \"20170801\", \"20170901\", \"20171001\", \"20171101\", \"20171201\",\n",
    "                          \"20180101\", \"20180201\", \"20180301\", \"20180401\", \"20180501\", \"20180601\",\n",
    "                          \"20180701\", \"20180801\", \"20180901\", \"20181001\", \"20181101\", \"20181201\",\n",
    "                          \"20190101\", \"20190201\", \"20190301\", \"20190401\", \"20190501\", \"20190601\",\n",
    "                          \"20190701\", \"20190801\", \"20190901\", \"20191001\", \"20191101\", \"20191201\",\n",
    "                          \"20200201\", \"20200301\", \"20200401\", \"20200501\", \"20200601\"])"
   ]
  },
  {
   "cell_type": "code",
   "execution_count": 55,
   "metadata": {},
   "outputs": [],
   "source": [
    "DOWNd4 = DOWNdata2.drop(columns = [\"20170101\", \"20170201\", \"20170301\", \"20170401\", \"20170501\", \"20170601\",\n",
    "                          \"20170701\", \"20170801\", \"20170901\", \"20171001\", \"20171101\", \"20171201\",\n",
    "                          \"20180101\", \"20180201\", \"20180301\", \"20180401\", \"20180501\", \"20180601\",\n",
    "                          \"20180701\", \"20180801\", \"20180901\", \"20181001\", \"20181101\", \"20181201\",\n",
    "                          \"20190101\", \"20190201\", \"20190301\", \"20190401\", \"20190501\", \"20190601\",\n",
    "                          \"20190701\", \"20190801\", \"20190901\", \"20191001\", \"20191101\", \"20191201\",\n",
    "                          \"20200201\", \"20200301\", \"20200401\", \"20200501\", \"20200601\"])"
   ]
  },
  {
   "cell_type": "code",
   "execution_count": 63,
   "metadata": {},
   "outputs": [
    {
     "data": {
      "text/plain": [
       "0    1587774\n",
       "1     116392\n",
       "Name: DeedCategory, dtype: int64"
      ]
     },
     "execution_count": 63,
     "metadata": {},
     "output_type": "execute_result"
    }
   ],
   "source": [
    "# = TRUTH / Y LABEL \n",
    "#0 -not \n",
    "#1 - foreclosure \n",
    "d4['DeedCategory'] = d4['DeedCategory'].replace(\"N\", 0)\n",
    "d4['DeedCategory'] = d4['DeedCategory'].replace(\"U\", 1)\n",
    "d4['DeedCategory'].value_counts()"
   ]
  },
  {
   "cell_type": "code",
   "execution_count": 64,
   "metadata": {},
   "outputs": [
    {
     "data": {
      "text/plain": [
       "1    116392\n",
       "0    116392\n",
       "Name: DeedCategory, dtype: int64"
      ]
     },
     "execution_count": 64,
     "metadata": {},
     "output_type": "execute_result"
    }
   ],
   "source": [
    "DOWNd4['DeedCategory'] = DOWNd4['DeedCategory'].replace(\"N\", 0)\n",
    "DOWNd4['DeedCategory'] = DOWNd4['DeedCategory'].replace(\"U\", 1)\n",
    "DOWNd4['DeedCategory'].value_counts()"
   ]
  },
  {
   "cell_type": "markdown",
   "metadata": {},
   "source": [
    "# Baseline Models and Scores"
   ]
  },
  {
   "cell_type": "code",
   "execution_count": 65,
   "metadata": {},
   "outputs": [],
   "source": [
    "X = d4.drop(columns = ['DeedCategory'])\n",
    "y = d4['DeedCategory']\n",
    "\n",
    "from sklearn.model_selection import train_test_split\n",
    "X_train, X_val, y_train, y_val = train_test_split(X, y, random_state = 0)\n",
    "\n",
    "tests = [] \n",
    "scores = [] "
   ]
  },
  {
   "cell_type": "code",
   "execution_count": 83,
   "metadata": {},
   "outputs": [],
   "source": [
    "DOWNX = DOWNd4.drop(columns = ['DeedCategory', 'DocumentType'])\n",
    "DOWNy = DOWNd4['DeedCategory']\n",
    "\n",
    "from sklearn.model_selection import train_test_split\n",
    "DOWNX_train, DOWNX_val, DOWNy_train, DOWNy_val = train_test_split(DOWNX, DOWNy, random_state = 0)\n",
    "\n",
    "DOWNtests = [] \n",
    "DOWNscores = [] "
   ]
  },
  {
   "cell_type": "markdown",
   "metadata": {},
   "source": [
    "### Linear Regression"
   ]
  },
  {
   "cell_type": "code",
   "execution_count": 99,
   "metadata": {},
   "outputs": [
    {
     "name": "stdout",
     "output_type": "stream",
     "text": [
      " accuracy: 0.9316452368545824, mse: 0.0683547631454176\n"
     ]
    }
   ],
   "source": [
    "from sklearn.linear_model import LinearRegression\n",
    "from sklearn.metrics import mean_squared_error\n",
    "\n",
    "linreg = LinearRegression().fit(X_train, y_train)\n",
    "train_score = linreg.score(X_train, y_train)\n",
    "#print(train_score)\n",
    "linreg_predicted = linreg.predict(X_val)\n",
    "\n",
    "news = [] \n",
    "for g in linreg_predicted:\n",
    "    if g > .5:\n",
    "        news.append(1)\n",
    "    if g <= .5:\n",
    "         news.append(0)\n",
    "\n",
    "accuracy = metrics.accuracy_score(y_val, news)\n",
    "mse = mean_squared_error(y_val, news)\n",
    "\n",
    "print(f\" accuracy: {accuracy}, mse: {mse}\")"
   ]
  },
  {
   "cell_type": "code",
   "execution_count": 98,
   "metadata": {},
   "outputs": [
    {
     "name": "stdout",
     "output_type": "stream",
     "text": [
      "0.040623340909621386\n",
      " accuracy: 0.5926524159736064, mse: 0.4073475840263936\n"
     ]
    }
   ],
   "source": [
    "#DOWN \n",
    "\n",
    "DOWNlinreg = LinearRegression().fit(DOWNX_train, DOWNy_train)\n",
    "DOWNtrain_score = DOWNlinreg.score(DOWNX_train, DOWNy_train)\n",
    "#print(DOWNtrain_score)\n",
    "DOWNlinreg_predicted = DOWNlinreg.predict(DOWNX_val)\n",
    "\n",
    "DOWNnews = [] \n",
    "for g in DOWNlinreg_predicted:\n",
    "    if g > .5:\n",
    "        DOWNnews.append(1)\n",
    "    if g <= .5:\n",
    "        DOWNnews.append(0)\n",
    "\n",
    "\n",
    "DOWNaccuracy = metrics.accuracy_score(DOWNy_val, DOWNnews)\n",
    "DOWNmse = mean_squared_error(DOWNy_val, DOWNnews)\n",
    "\n",
    "print(f\" accuracy: {DOWNaccuracy}, mse: {DOWNmse}\")"
   ]
  },
  {
   "cell_type": "markdown",
   "metadata": {},
   "source": [
    "## Naive Bayes"
   ]
  },
  {
   "cell_type": "code",
   "execution_count": 96,
   "metadata": {},
   "outputs": [
    {
     "name": "stdout",
     "output_type": "stream",
     "text": [
      " accuracy: 0.30628905131418965, mse: 0.6937109486858103\n"
     ]
    }
   ],
   "source": [
    "from sklearn import metrics\n",
    "from sklearn.metrics import mean_absolute_error\n",
    "from sklearn.metrics import classification_report\n",
    "from sklearn.naive_bayes import GaussianNB\n",
    "\n",
    "#Create a Gaussian Classifier\n",
    "gnb = GaussianNB()\n",
    "gnb.fit(X_train, y_train)\n",
    "y_pred = gnb.predict(X_val)\n",
    "\n",
    "accuracy = metrics.accuracy_score(y_val, y_pred)\n",
    "mse = mean_squared_error(y_val, y_pred)\n",
    "\n",
    "print(f\" accuracy: {accuracy}, mse: {mse}\")"
   ]
  },
  {
   "cell_type": "code",
   "execution_count": 97,
   "metadata": {},
   "outputs": [
    {
     "name": "stdout",
     "output_type": "stream",
     "text": [
      " accuracy: 0.5270637157192934, mse: 0.47293628428070655\n"
     ]
    }
   ],
   "source": [
    "gnb = GaussianNB()\n",
    "gnb.fit(DOWNX_train, DOWNy_train)\n",
    "\n",
    "DOWNy_pred = gnb.predict(DOWNX_val)\n",
    "DOWNnbg_a = metrics.accuracy_score(DOWNy_val, DOWNy_pred)\n",
    "\n",
    "DOWNaccuracy = metrics.accuracy_score(DOWNy_val, DOWNy_pred)\n",
    "DOWNmse = mean_squared_error(DOWNy_val, DOWNy_pred)\n",
    "\n",
    "print(f\" accuracy: {DOWNaccuracy}, mse: {DOWNmse}\")"
   ]
  },
  {
   "cell_type": "markdown",
   "metadata": {},
   "source": [
    "##### Logistic Regression "
   ]
  },
  {
   "cell_type": "code",
   "execution_count": 89,
   "metadata": {},
   "outputs": [
    {
     "name": "stdout",
     "output_type": "stream",
     "text": [
      " accuracy: 0.9316335009224442, mse: 0.06836649907755574\n"
     ]
    },
    {
     "name": "stderr",
     "output_type": "stream",
     "text": [
      "/home/elizbr/.local/lib/python3.6/site-packages/sklearn/linear_model/_logistic.py:765: ConvergenceWarning: lbfgs failed to converge (status=1):\n",
      "STOP: TOTAL NO. of ITERATIONS REACHED LIMIT.\n",
      "\n",
      "Increase the number of iterations (max_iter) or scale the data as shown in:\n",
      "    https://scikit-learn.org/stable/modules/preprocessing.html\n",
      "Please also refer to the documentation for alternative solver options:\n",
      "    https://scikit-learn.org/stable/modules/linear_model.html#logistic-regression\n",
      "  extra_warning_msg=_LOGISTIC_SOLVER_CONVERGENCE_MSG)\n"
     ]
    }
   ],
   "source": [
    "from sklearn.linear_model import LogisticRegression\n",
    "from sklearn.metrics import classification_report\n",
    "from sklearn.metrics import mean_absolute_error\n",
    "\n",
    "logmodel = LogisticRegression()\n",
    "logmodel.fit(X_train,y_train)\n",
    "predictions = logmodel.predict(X_val)\n",
    "#print(classification_report(y_val,predictions))\n",
    "\n",
    "accuracy = metrics.accuracy_score(y_val, predictions)\n",
    "mse = mean_squared_error(y_val, predictions)\n",
    "\n",
    "print(f\" accuracy: {accuracy}, mse: {mse}\")"
   ]
  },
  {
   "cell_type": "code",
   "execution_count": 90,
   "metadata": {
    "scrolled": true
   },
   "outputs": [
    {
     "name": "stdout",
     "output_type": "stream",
     "text": [
      " accuracy: 0.592600866038903, mse: 0.407399133961097\n"
     ]
    },
    {
     "name": "stderr",
     "output_type": "stream",
     "text": [
      "/home/elizbr/.local/lib/python3.6/site-packages/sklearn/linear_model/_logistic.py:765: ConvergenceWarning: lbfgs failed to converge (status=1):\n",
      "STOP: TOTAL NO. of ITERATIONS REACHED LIMIT.\n",
      "\n",
      "Increase the number of iterations (max_iter) or scale the data as shown in:\n",
      "    https://scikit-learn.org/stable/modules/preprocessing.html\n",
      "Please also refer to the documentation for alternative solver options:\n",
      "    https://scikit-learn.org/stable/modules/linear_model.html#logistic-regression\n",
      "  extra_warning_msg=_LOGISTIC_SOLVER_CONVERGENCE_MSG)\n"
     ]
    }
   ],
   "source": [
    "from sklearn.linear_model import LogisticRegression\n",
    "from sklearn.metrics import classification_report\n",
    "from sklearn.metrics import mean_absolute_error\n",
    "\n",
    "logmodel = LogisticRegression()\n",
    "logmodel.fit(DOWNX_train,DOWNy_train)\n",
    "DOWNpredictions = logmodel.predict(DOWNX_val)\n",
    "#print(classification_report(y_val,predictions))\n",
    "\n",
    "DOWNaccuracy = metrics.accuracy_score(DOWNy_val, DOWNpredictions)\n",
    "DOWNmse = mean_squared_error(DOWNy_val, DOWNpredictions)\n",
    "\n",
    "print(f\" accuracy: {DOWNaccuracy}, mse: {DOWNmse}\")"
   ]
  },
  {
   "cell_type": "markdown",
   "metadata": {},
   "source": [
    "### RF"
   ]
  },
  {
   "cell_type": "code",
   "execution_count": 93,
   "metadata": {},
   "outputs": [
    {
     "name": "stdout",
     "output_type": "stream",
     "text": [
      " accuracy: 0.9316452368545824, mse: 0.0683547631454176\n"
     ]
    }
   ],
   "source": [
    "from sklearn.ensemble import RandomForestClassifier\n",
    "from sklearn.datasets import make_classification\n",
    "\n",
    "clf = RandomForestClassifier(max_depth=2, random_state=0)\n",
    "clf.fit(X_train,y_train)\n",
    "predictions = clf.predict(X_val)\n",
    "\n",
    "accuracy = metrics.accuracy_score(y_val, predictions)\n",
    "mse = mean_squared_error(y_val, predictions)\n",
    "\n",
    "print(f\" accuracy: {accuracy}, mse: {mse}\")"
   ]
  },
  {
   "cell_type": "code",
   "execution_count": 94,
   "metadata": {},
   "outputs": [
    {
     "name": "stdout",
     "output_type": "stream",
     "text": [
      " accuracy: 0.558268609526428, mse: 0.44173139047357207\n"
     ]
    }
   ],
   "source": [
    "DOWNclf = RandomForestClassifier(max_depth=2, random_state=0)\n",
    "DOWNclf.fit(DOWNX_train,DOWNy_train)\n",
    "DOWNpredictions = DOWNclf.predict(DOWNX_val)\n",
    "\n",
    "DOWNaccuracy = metrics.accuracy_score(DOWNy_val, DOWNpredictions)\n",
    "DOWNmse = mean_squared_error(DOWNy_val, DOWNpredictions)\n",
    "\n",
    "print(f\" accuracy: {DOWNaccuracy}, mse: {DOWNmse}\")"
   ]
  },
  {
   "cell_type": "code",
   "execution_count": null,
   "metadata": {},
   "outputs": [],
   "source": []
  }
 ],
 "metadata": {
  "kernelspec": {
   "display_name": "Python 3",
   "language": "python",
   "name": "python3"
  },
  "language_info": {
   "codemirror_mode": {
    "name": "ipython",
    "version": 3
   },
   "file_extension": ".py",
   "mimetype": "text/x-python",
   "name": "python",
   "nbconvert_exporter": "python",
   "pygments_lexer": "ipython3",
   "version": "3.6.5"
  }
 },
 "nbformat": 4,
 "nbformat_minor": 4
}
